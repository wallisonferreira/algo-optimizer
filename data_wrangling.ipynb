{
 "cells": [
  {
   "cell_type": "markdown",
   "metadata": {},
   "source": [
    "# Importações"
   ]
  },
  {
   "cell_type": "code",
   "execution_count": 1,
   "metadata": {},
   "outputs": [
    {
     "name": "stderr",
     "output_type": "stream",
     "text": [
      "[nltk_data] Downloading package stopwords to\n",
      "[nltk_data]     C:\\Users\\wferreira\\AppData\\Roaming\\nltk_data...\n",
      "[nltk_data]   Package stopwords is already up-to-date!\n",
      "[nltk_data] Downloading package punkt to\n",
      "[nltk_data]     C:\\Users\\wferreira\\AppData\\Roaming\\nltk_data...\n",
      "[nltk_data]   Package punkt is already up-to-date!\n",
      "[nltk_data] Downloading package wordnet to\n",
      "[nltk_data]     C:\\Users\\wferreira\\AppData\\Roaming\\nltk_data...\n",
      "[nltk_data]   Package wordnet is already up-to-date!\n",
      "[nltk_data] Downloading package averaged_perceptron_tagger to\n",
      "[nltk_data]     C:\\Users\\wferreira\\AppData\\Roaming\\nltk_data...\n",
      "[nltk_data]   Package averaged_perceptron_tagger is already up-to-\n",
      "[nltk_data]       date!\n",
      "[nltk_data] Downloading package maxent_ne_chunker to\n",
      "[nltk_data]     C:\\Users\\wferreira\\AppData\\Roaming\\nltk_data...\n",
      "[nltk_data]   Package maxent_ne_chunker is already up-to-date!\n",
      "[nltk_data] Downloading package words to\n",
      "[nltk_data]     C:\\Users\\wferreira\\AppData\\Roaming\\nltk_data...\n",
      "[nltk_data]   Package words is already up-to-date!\n"
     ]
    }
   ],
   "source": [
    "import numpy as np\n",
    "import pandas as pd\n",
    "import seaborn as sns\n",
    "import matplotlib.pyplot as plt\n",
    "import re\n",
    "import string\n",
    "import nltk\n",
    "\n",
    "nltk.download('stopwords')\n",
    "nltk.download('punkt')\n",
    "nltk.download('wordnet')\n",
    "nltk.download('averaged_perceptron_tagger')\n",
    "nltk.download('maxent_ne_chunker')\n",
    "nltk.download('words')\n",
    "\n",
    "#from wordcloud import WordCloud\n",
    "\n",
    "from nltk.tokenize import sent_tokenize, word_tokenize\n",
    "from nltk.corpus import stopwords\n",
    "from nltk.stem import WordNetLemmatizer, PorterStemmer\n",
    "from nltk import pos_tag, ne_chunk\n",
    "from nltk.chunk import tree2conlltags\n",
    "\n",
    "import warnings\n",
    "warnings.filterwarnings('ignore')"
   ]
  },
  {
   "cell_type": "markdown",
   "metadata": {},
   "source": [
    "# Coleta de Dados"
   ]
  },
  {
   "cell_type": "code",
   "execution_count": 2,
   "metadata": {},
   "outputs": [
    {
     "data": {
      "text/html": [
       "<div>\n",
       "<style scoped>\n",
       "    .dataframe tbody tr th:only-of-type {\n",
       "        vertical-align: middle;\n",
       "    }\n",
       "\n",
       "    .dataframe tbody tr th {\n",
       "        vertical-align: top;\n",
       "    }\n",
       "\n",
       "    .dataframe thead th {\n",
       "        text-align: right;\n",
       "    }\n",
       "</style>\n",
       "<table border=\"1\" class=\"dataframe\">\n",
       "  <thead>\n",
       "    <tr style=\"text-align: right;\">\n",
       "      <th></th>\n",
       "      <th>text</th>\n",
       "      <th>hatespeech_comb</th>\n",
       "      <th>hatespeech_G1</th>\n",
       "      <th>annotator_G1</th>\n",
       "      <th>hatespeech_G2</th>\n",
       "      <th>annotator_G2</th>\n",
       "      <th>hatespeech_G3</th>\n",
       "      <th>annotator_G3</th>\n",
       "    </tr>\n",
       "  </thead>\n",
       "  <tbody>\n",
       "    <tr>\n",
       "      <th>0</th>\n",
       "      <td>@__andrea__b \\nO cara vive em outro mundo\\nNão...</td>\n",
       "      <td>1</td>\n",
       "      <td>1</td>\n",
       "      <td>A</td>\n",
       "      <td>1.0</td>\n",
       "      <td>V</td>\n",
       "      <td>0</td>\n",
       "      <td>E</td>\n",
       "    </tr>\n",
       "    <tr>\n",
       "      <th>1</th>\n",
       "      <td>@_carmeloneto Estes incompetentes não cuidam n...</td>\n",
       "      <td>0</td>\n",
       "      <td>1</td>\n",
       "      <td>D</td>\n",
       "      <td>0.0</td>\n",
       "      <td>V</td>\n",
       "      <td>0</td>\n",
       "      <td>C</td>\n",
       "    </tr>\n",
       "    <tr>\n",
       "      <th>2</th>\n",
       "      <td>@_carmeloneto \\nOs 'cumpanhero' quebraram toda...</td>\n",
       "      <td>0</td>\n",
       "      <td>1</td>\n",
       "      <td>A</td>\n",
       "      <td>0.0</td>\n",
       "      <td>B</td>\n",
       "      <td>0</td>\n",
       "      <td>E</td>\n",
       "    </tr>\n",
       "    <tr>\n",
       "      <th>3</th>\n",
       "      <td>@_GlitteryKisses é isso não conseguem pensar n...</td>\n",
       "      <td>0</td>\n",
       "      <td>0</td>\n",
       "      <td>C</td>\n",
       "      <td>0.0</td>\n",
       "      <td>V</td>\n",
       "      <td>0</td>\n",
       "      <td>D</td>\n",
       "    </tr>\n",
       "    <tr>\n",
       "      <th>4</th>\n",
       "      <td>@_iglira bom dia macaco branco haha</td>\n",
       "      <td>1</td>\n",
       "      <td>0</td>\n",
       "      <td>A</td>\n",
       "      <td>1.0</td>\n",
       "      <td>I</td>\n",
       "      <td>1</td>\n",
       "      <td>E</td>\n",
       "    </tr>\n",
       "  </tbody>\n",
       "</table>\n",
       "</div>"
      ],
      "text/plain": [
       "                                                text  hatespeech_comb  \\\n",
       "0  @__andrea__b \\nO cara vive em outro mundo\\nNão...                1   \n",
       "1  @_carmeloneto Estes incompetentes não cuidam n...                0   \n",
       "2  @_carmeloneto \\nOs 'cumpanhero' quebraram toda...                0   \n",
       "3  @_GlitteryKisses é isso não conseguem pensar n...                0   \n",
       "4                @_iglira bom dia macaco branco haha                1   \n",
       "\n",
       "   hatespeech_G1 annotator_G1  hatespeech_G2 annotator_G2  hatespeech_G3  \\\n",
       "0              1            A            1.0            V              0   \n",
       "1              1            D            0.0            V              0   \n",
       "2              1            A            0.0            B              0   \n",
       "3              0            C            0.0            V              0   \n",
       "4              0            A            1.0            I              1   \n",
       "\n",
       "  annotator_G3  \n",
       "0            E  \n",
       "1            C  \n",
       "2            E  \n",
       "3            D  \n",
       "4            E  "
      ]
     },
     "execution_count": 2,
     "metadata": {},
     "output_type": "execute_result"
    }
   ],
   "source": [
    "df = pd.read_csv('https://raw.githubusercontent.com/paulafortuna/Portuguese-Hate-Speech-Dataset/master/2019-05-28_portuguese_hate_speech_binary_classification.csv')\n",
    "df.head()"
   ]
  },
  {
   "cell_type": "markdown",
   "metadata": {},
   "source": [
    "# Pré-processamento"
   ]
  },
  {
   "cell_type": "markdown",
   "metadata": {},
   "source": [
    "## 1 Cleaning"
   ]
  },
  {
   "cell_type": "code",
   "execution_count": 3,
   "metadata": {},
   "outputs": [],
   "source": [
    "import re\n",
    "from bs4 import BeautifulSoup\n",
    "\n",
    "def removeLinks(instancia):\n",
    "    return re.sub(r\"http\\S+\", \"\", instancia).lower()\n",
    "\n",
    "def removePunctuation(instancia):\n",
    "    return instancia.replace('.','') \\\n",
    "        .replace(',','') \\\n",
    "        .replace(';','') \\\n",
    "        .replace('-','') \\\n",
    "        .replace(':','') \\\n",
    "        .replace('(','') \\\n",
    "        .replace(')','')\n",
    "\n",
    "def removeHTMLTags(instancia):\n",
    "    return BeautifulSoup(instancia, 'html.parser').get_text()\n",
    "\n",
    "def removeNonLettersAndNumbers(instancia):\n",
    "    return re.sub(r\"[^a-zA-Zà-úÀ-Ú0-9 ]\", \"\", instancia.lower())\n",
    "\n",
    "def removeSpacesFromCorners(instancia):\n",
    "    return instancia.strip(\" \").strip()\n",
    "\n",
    "def cleanText(instancia):\n",
    "    instancia = removeLinks(instancia)\n",
    "    instancia = removePunctuation(instancia)\n",
    "    instancia = removeHTMLTags(instancia)\n",
    "    instancia = removeNonLettersAndNumbers(instancia)\n",
    "    instancia = removeSpacesFromCorners(instancia)\n",
    "    return instancia"
   ]
  },
  {
   "cell_type": "markdown",
   "metadata": {},
   "source": [
    "## 2 Tokenization"
   ]
  },
  {
   "cell_type": "code",
   "execution_count": 11,
   "metadata": {},
   "outputs": [],
   "source": [
    "def tokenizeText(instancia):\n",
    "    '''\n",
    "    Recebe o texto e retorna uma lista de tokens.\n",
    "    '''\n",
    "    return nltk.tokenize.TweetTokenizer().tokenize(instancia)"
   ]
  },
  {
   "cell_type": "markdown",
   "metadata": {},
   "source": [
    "## 3 Stemming"
   ]
  },
  {
   "cell_type": "code",
   "execution_count": 4,
   "metadata": {},
   "outputs": [
    {
     "name": "stderr",
     "output_type": "stream",
     "text": [
      "[nltk_data] Downloading package rslp to\n",
      "[nltk_data]     C:\\Users\\wferreira\\AppData\\Roaming\\nltk_data...\n",
      "[nltk_data]   Unzipping stemmers\\rslp.zip.\n"
     ]
    }
   ],
   "source": [
    "nltk.download('rslp')\n",
    "def stemText(instancia):\n",
    "    '''\n",
    "    Recebe uma lista de termos e retorna uma lista stemada.\n",
    "    '''\n",
    "    stemmer = nltk.stem.RSLPStemmer()\n",
    "    words = []\n",
    "    for w in instancia:\n",
    "        words.append(stemmer.stem(w))\n",
    "    return words"
   ]
  },
  {
   "cell_type": "markdown",
   "metadata": {},
   "source": [
    "## 4 Lemmatization"
   ]
  },
  {
   "cell_type": "code",
   "execution_count": 5,
   "metadata": {},
   "outputs": [],
   "source": [
    "from nltk.stem import WordNetLemmatizer\n",
    "lematizador = WordNetLemmatizer()\n",
    "\n",
    "def lemmatizeText(instancia):\n",
    "    '''\n",
    "    Recebe uma lista de termos e retorna uma lista lematizada.\n",
    "    '''\n",
    "    words = []\n",
    "    for word in instancia:\n",
    "        words.append(lematizador.lemmatize(word))\n",
    "    return words"
   ]
  },
  {
   "cell_type": "markdown",
   "metadata": {},
   "source": [
    "## 5 Removing STOPWORDS"
   ]
  },
  {
   "cell_type": "code",
   "execution_count": 8,
   "metadata": {},
   "outputs": [],
   "source": [
    "def removeStopWords(instancia):\n",
    "    '''\n",
    "    Recebe uma lista de termos e retorna uma lista\n",
    "    com stopwords removidas.\n",
    "    '''\n",
    "    stopwords = set(nltk.corpus.stopwords.words('portuguese'))\n",
    "    words = [i for i in instancia if not i in stopwords]\n",
    "    return \" \".join(words)"
   ]
  },
  {
   "cell_type": "markdown",
   "metadata": {},
   "source": [
    "## 6 Applying Techniques"
   ]
  },
  {
   "cell_type": "code",
   "execution_count": 12,
   "metadata": {},
   "outputs": [],
   "source": [
    "from tqdm import tqdm\n",
    "tqdm.pandas()\n",
    "\n",
    "def preprocessingText(data):\n",
    "    data['clean_text'] = data.progress_apply(lambda row: cleanText(row['text']), axis=1)\n",
    "    data['tokenized'] = data.progress_apply(lambda row: tokenizeText(row['clean_text']), axis=1)\n",
    "    data['stemmed'] = data.progress_apply(lambda row: stemText(row['tokenized']), axis=1)\n",
    "    data['lemmatized'] = data.progress_apply(lambda row: lemmatizeText(row['stemmed']), axis=1)\n",
    "    data['processed_text'] = data.progress_apply(lambda row: removeStopWords(row['lemmatized']), axis=1)\n",
    "    return data"
   ]
  },
  {
   "cell_type": "code",
   "execution_count": 13,
   "metadata": {},
   "outputs": [
    {
     "name": "stderr",
     "output_type": "stream",
     "text": [
      "100%|██████████| 5670/5670 [00:00<00:00, 38524.98it/s]\n",
      "100%|██████████| 5670/5670 [00:00<00:00, 21094.76it/s]\n",
      "100%|██████████| 5670/5670 [00:02<00:00, 2111.61it/s]\n",
      "100%|██████████| 5670/5670 [00:01<00:00, 5301.82it/s]\n",
      "100%|██████████| 5670/5670 [00:00<00:00, 10392.67it/s]\n"
     ]
    }
   ],
   "source": [
    "df = preprocessingText(df)"
   ]
  },
  {
   "cell_type": "markdown",
   "metadata": {},
   "source": [
    "### 6.1 Tratamentos adicionais"
   ]
  },
  {
   "cell_type": "code",
   "execution_count": 14,
   "metadata": {},
   "outputs": [
    {
     "name": "stderr",
     "output_type": "stream",
     "text": [
      "100%|██████████| 5670/5670 [00:00<00:00, 265821.31it/s]\n",
      "100%|██████████| 5670/5670 [00:00<00:00, 280858.62it/s]\n",
      "100%|██████████| 5670/5670 [00:00<00:00, 333049.10it/s]\n"
     ]
    }
   ],
   "source": [
    "def list_to_text(instancia):\n",
    "    words = [i for i in instancia]\n",
    "    return \" \".join(words)\n",
    "\n",
    "def convert_to_text(data):\n",
    "    data['tokenized'] = data.progress_apply(lambda row: list_to_text(row['tokenized']), axis=1)\n",
    "    data['stemmed'] = data.progress_apply(lambda row: list_to_text(row['stemmed']), axis=1)\n",
    "    data['lemmatized'] = data.progress_apply(lambda row: list_to_text(row['lemmatized']), axis=1)\n",
    "    return data\n",
    "\n",
    "df = convert_to_text(df)"
   ]
  },
  {
   "cell_type": "markdown",
   "metadata": {},
   "source": [
    "### 6.2 Remove palavras raras"
   ]
  },
  {
   "cell_type": "code",
   "execution_count": 15,
   "metadata": {},
   "outputs": [
    {
     "data": {
      "text/html": [
       "<div>\n",
       "<style scoped>\n",
       "    .dataframe tbody tr th:only-of-type {\n",
       "        vertical-align: middle;\n",
       "    }\n",
       "\n",
       "    .dataframe tbody tr th {\n",
       "        vertical-align: top;\n",
       "    }\n",
       "\n",
       "    .dataframe thead th {\n",
       "        text-align: right;\n",
       "    }\n",
       "</style>\n",
       "<table border=\"1\" class=\"dataframe\">\n",
       "  <thead>\n",
       "    <tr style=\"text-align: right;\">\n",
       "      <th></th>\n",
       "      <th>text</th>\n",
       "      <th>clean_text</th>\n",
       "      <th>tokenized</th>\n",
       "      <th>stemmed</th>\n",
       "      <th>lemmatized</th>\n",
       "      <th>processed_text</th>\n",
       "    </tr>\n",
       "  </thead>\n",
       "  <tbody>\n",
       "    <tr>\n",
       "      <th>0</th>\n",
       "      <td>@__andrea__b \\nO cara vive em outro mundo\\nNão...</td>\n",
       "      <td>o cara vive em outro no mundo são os que as suas</td>\n",
       "      <td>o cara vive em outro no mundo são os que as suas</td>\n",
       "      <td>o car viv em outr no mund são os que favel vi ...</td>\n",
       "      <td>o car viv em outr no mund são o que favel vi a...</td>\n",
       "      <td>car viv outr mund favel vi fortal</td>\n",
       "    </tr>\n",
       "    <tr>\n",
       "      <th>1</th>\n",
       "      <td>@_carmeloneto Estes incompetentes não cuidam n...</td>\n",
       "      <td>carmeloneto estes não nem do povo brasileiro e...</td>\n",
       "      <td>carmeloneto estes não nem do povo brasileiro e...</td>\n",
       "      <td>carmelonet est não cuid nem do pov brasil e ne...</td>\n",
       "      <td>carmelonet est não cuid nem do pov brasil e ne...</td>\n",
       "      <td>carmelonet est cuid pov brasil pouc refugi aqu...</td>\n",
       "    </tr>\n",
       "    <tr>\n",
       "      <th>2</th>\n",
       "      <td>@_carmeloneto \\nOs 'cumpanhero' quebraram toda...</td>\n",
       "      <td>carmeloneto os todas as</td>\n",
       "      <td>carmeloneto os todas as</td>\n",
       "      <td>carmelonet os quebr tod as regr</td>\n",
       "      <td>carmelonet o quebr tod a regr</td>\n",
       "      <td>carmelonet quebr tod regr</td>\n",
       "    </tr>\n",
       "  </tbody>\n",
       "</table>\n",
       "</div>"
      ],
      "text/plain": [
       "                                                text  \\\n",
       "0  @__andrea__b \\nO cara vive em outro mundo\\nNão...   \n",
       "1  @_carmeloneto Estes incompetentes não cuidam n...   \n",
       "2  @_carmeloneto \\nOs 'cumpanhero' quebraram toda...   \n",
       "\n",
       "                                          clean_text  \\\n",
       "0   o cara vive em outro no mundo são os que as suas   \n",
       "1  carmeloneto estes não nem do povo brasileiro e...   \n",
       "2                            carmeloneto os todas as   \n",
       "\n",
       "                                           tokenized  \\\n",
       "0   o cara vive em outro no mundo são os que as suas   \n",
       "1  carmeloneto estes não nem do povo brasileiro e...   \n",
       "2                            carmeloneto os todas as   \n",
       "\n",
       "                                             stemmed  \\\n",
       "0  o car viv em outr no mund são os que favel vi ...   \n",
       "1  carmelonet est não cuid nem do pov brasil e ne...   \n",
       "2                    carmelonet os quebr tod as regr   \n",
       "\n",
       "                                          lemmatized  \\\n",
       "0  o car viv em outr no mund são o que favel vi a...   \n",
       "1  carmelonet est não cuid nem do pov brasil e ne...   \n",
       "2                      carmelonet o quebr tod a regr   \n",
       "\n",
       "                                      processed_text  \n",
       "0                  car viv outr mund favel vi fortal  \n",
       "1  carmelonet est cuid pov brasil pouc refugi aqu...  \n",
       "2                          carmelonet quebr tod regr  "
      ]
     },
     "execution_count": 15,
     "metadata": {},
     "output_type": "execute_result"
    }
   ],
   "source": [
    "def remove_rare_words(dataset, columns):\n",
    "    for column in columns:\n",
    "        rare_words = pd.Series(\" \".join(dataset[column]).split()).value_counts()\n",
    "        rare_words = rare_words[rare_words <= 2]\n",
    "        dataset[column] = dataset[column].apply(lambda x: \" \".join([i for i in x.split() if i not in  rare_words.index]))\n",
    "    return dataset\n",
    "\n",
    "df = remove_rare_words(df, columns=['clean_text','tokenized','stemmed','lemmatized','processed_text'])\n",
    "\n",
    "df[['text','clean_text', 'tokenized', 'stemmed', 'lemmatized', 'processed_text']].head(3)"
   ]
  },
  {
   "cell_type": "markdown",
   "metadata": {},
   "source": [
    "## Visualizando labels Disponíveis"
   ]
  },
  {
   "cell_type": "code",
   "execution_count": 16,
   "metadata": {},
   "outputs": [
    {
     "data": {
      "image/png": "[encoded data removed]",
      "text/plain": [
       "<Figure size 2000x500 with 7 Axes>"
      ]
     },
     "metadata": {},
     "output_type": "display_data"
    }
   ],
   "source": [
    "columns = ['hatespeech_comb', 'hatespeech_G1', 'annotator_G1','hatespeech_G2', 'annotator_G2', 'hatespeech_G3', 'annotator_G3']\n",
    "\n",
    "plt.figure(figsize=(20,5))\n",
    "\n",
    "number_plots = len(columns)\n",
    "\n",
    "for index, value in enumerate(columns):\n",
    "    plt.subplot(1, number_plots, index+1)\n",
    "    sns.countplot(x=columns[index],data=df);"
   ]
  },
  {
   "cell_type": "markdown",
   "metadata": {},
   "source": [
    "# Análise do Dataset\n",
    "\n",
    "## Classe/Target\n",
    "### Para este trabalho, adotaremos como label a feature 'hatespeech_comb' como a classe para tarefas de predições de comentários hate e no-hate, por representar a classificação agregada de cada instância (texto) na nossa base de dados."
   ]
  },
  {
   "cell_type": "code",
   "execution_count": 18,
   "metadata": {},
   "outputs": [
    {
     "name": "stdout",
     "output_type": "stream",
     "text": [
      "hatespeech_comb\n",
      "0    3882\n",
      "1    1788\n",
      "Name: count, dtype: int64\n"
     ]
    },
    {
     "data": {
      "image/png": "[encoded data removed]",
      "text/plain": [
       "<Figure size 640x480 with 1 Axes>"
      ]
     },
     "metadata": {},
     "output_type": "display_data"
    }
   ],
   "source": [
    "print(df['hatespeech_comb'].value_counts())\n",
    "sns.countplot(x='hatespeech_comb',data=df);"
   ]
  },
  {
   "cell_type": "markdown",
   "metadata": {},
   "source": [
    "## Features\n",
    "\n",
    "### Para nossas features, geramos a partir da coluna text, onde tinhamos os texto brutos extraídos da base de dados, novas colunas como:\n",
    "\n",
    "- clean_text: representando a limpeza com retirada de ruídos: @, pontuações, links e símbolos\n",
    "- tokenized: texto em lista de termos\n",
    "- stemming: palavras reduzidas ao seu radical\n",
    "- lemmatization: o lema raíz do termo\n",
    "- stopwords: remoção de palavras muito frequentes"
   ]
  },
  {
   "cell_type": "code",
   "execution_count": 19,
   "metadata": {},
   "outputs": [
    {
     "data": {
      "text/html": [
       "<div>\n",
       "<style scoped>\n",
       "    .dataframe tbody tr th:only-of-type {\n",
       "        vertical-align: middle;\n",
       "    }\n",
       "\n",
       "    .dataframe tbody tr th {\n",
       "        vertical-align: top;\n",
       "    }\n",
       "\n",
       "    .dataframe thead th {\n",
       "        text-align: right;\n",
       "    }\n",
       "</style>\n",
       "<table border=\"1\" class=\"dataframe\">\n",
       "  <thead>\n",
       "    <tr style=\"text-align: right;\">\n",
       "      <th></th>\n",
       "      <th>text</th>\n",
       "      <th>clean_text</th>\n",
       "      <th>tokenized</th>\n",
       "      <th>stemmed</th>\n",
       "      <th>lemmatized</th>\n",
       "      <th>processed_text</th>\n",
       "    </tr>\n",
       "  </thead>\n",
       "  <tbody>\n",
       "    <tr>\n",
       "      <th>0</th>\n",
       "      <td>@__andrea__b \\nO cara vive em outro mundo\\nNão...</td>\n",
       "      <td>o cara vive em outro no mundo são os que as suas</td>\n",
       "      <td>o cara vive em outro no mundo são os que as suas</td>\n",
       "      <td>o car viv em outr no mund são os que favel vi ...</td>\n",
       "      <td>o car viv em outr no mund são o que favel vi a...</td>\n",
       "      <td>car viv outr mund favel vi fortal</td>\n",
       "    </tr>\n",
       "    <tr>\n",
       "      <th>1</th>\n",
       "      <td>@_carmeloneto Estes incompetentes não cuidam n...</td>\n",
       "      <td>carmeloneto estes não nem do povo brasileiro e...</td>\n",
       "      <td>carmeloneto estes não nem do povo brasileiro e...</td>\n",
       "      <td>carmelonet est não cuid nem do pov brasil e ne...</td>\n",
       "      <td>carmelonet est não cuid nem do pov brasil e ne...</td>\n",
       "      <td>carmelonet est cuid pov brasil pouc refugi aqu...</td>\n",
       "    </tr>\n",
       "    <tr>\n",
       "      <th>2</th>\n",
       "      <td>@_carmeloneto \\nOs 'cumpanhero' quebraram toda...</td>\n",
       "      <td>carmeloneto os todas as</td>\n",
       "      <td>carmeloneto os todas as</td>\n",
       "      <td>carmelonet os quebr tod as regr</td>\n",
       "      <td>carmelonet o quebr tod a regr</td>\n",
       "      <td>carmelonet quebr tod regr</td>\n",
       "    </tr>\n",
       "  </tbody>\n",
       "</table>\n",
       "</div>"
      ],
      "text/plain": [
       "                                                text  \\\n",
       "0  @__andrea__b \\nO cara vive em outro mundo\\nNão...   \n",
       "1  @_carmeloneto Estes incompetentes não cuidam n...   \n",
       "2  @_carmeloneto \\nOs 'cumpanhero' quebraram toda...   \n",
       "\n",
       "                                          clean_text  \\\n",
       "0   o cara vive em outro no mundo são os que as suas   \n",
       "1  carmeloneto estes não nem do povo brasileiro e...   \n",
       "2                            carmeloneto os todas as   \n",
       "\n",
       "                                           tokenized  \\\n",
       "0   o cara vive em outro no mundo são os que as suas   \n",
       "1  carmeloneto estes não nem do povo brasileiro e...   \n",
       "2                            carmeloneto os todas as   \n",
       "\n",
       "                                             stemmed  \\\n",
       "0  o car viv em outr no mund são os que favel vi ...   \n",
       "1  carmelonet est não cuid nem do pov brasil e ne...   \n",
       "2                    carmelonet os quebr tod as regr   \n",
       "\n",
       "                                          lemmatized  \\\n",
       "0  o car viv em outr no mund são o que favel vi a...   \n",
       "1  carmelonet est não cuid nem do pov brasil e ne...   \n",
       "2                      carmelonet o quebr tod a regr   \n",
       "\n",
       "                                      processed_text  \n",
       "0                  car viv outr mund favel vi fortal  \n",
       "1  carmelonet est cuid pov brasil pouc refugi aqu...  \n",
       "2                          carmelonet quebr tod regr  "
      ]
     },
     "execution_count": 19,
     "metadata": {},
     "output_type": "execute_result"
    }
   ],
   "source": [
    "df[['text','clean_text', 'tokenized', 'stemmed', 'lemmatized', 'processed_text']].head(3)"
   ]
  },
  {
   "cell_type": "markdown",
   "metadata": {},
   "source": [
    "## Counting Words"
   ]
  },
  {
   "cell_type": "code",
   "execution_count": 21,
   "metadata": {},
   "outputs": [
    {
     "data": {
      "text/plain": [
       "array([[0, 0, 0, ..., 0, 0, 0],\n",
       "       [0, 0, 0, ..., 0, 0, 0],\n",
       "       [0, 0, 0, ..., 0, 0, 0],\n",
       "       ...,\n",
       "       [0, 0, 0, ..., 0, 0, 0],\n",
       "       [0, 0, 0, ..., 0, 0, 0],\n",
       "       [0, 0, 0, ..., 0, 0, 0]], dtype=int64)"
      ]
     },
     "execution_count": 21,
     "metadata": {},
     "output_type": "execute_result"
    }
   ],
   "source": [
    "# import CountVectorizer for counting number of times each word occurs\n",
    "from sklearn.feature_extraction.text import CountVectorizer\n",
    "\n",
    "cv = CountVectorizer()\n",
    "count_matrix = cv.fit_transform(df.processed_text)\n",
    "\n",
    "count_matrix.toarray()"
   ]
  },
  {
   "cell_type": "code",
   "execution_count": 23,
   "metadata": {},
   "outputs": [],
   "source": [
    "# create dataframe\n",
    "word_count = pd.DataFrame(cv.get_feature_names_out(), columns = ['processed_text'])\n",
    "# sum the presence of terms and turn it into a list\n",
    "word_count[\"count\"] = count_matrix.sum(axis=0).tolist()[0]\n",
    "word_count = word_count.sort_values(\"count\", ascending=False).reset_index(drop=True)\n",
    "# 200 palavras mais usadas\n",
    "\n",
    "#list(word_count[95:105]['processed_text'])"
   ]
  },
  {
   "cell_type": "markdown",
   "metadata": {},
   "source": [
    "## Analisando 3 tipos de tratamento de texto\n",
    "\n",
    "- clean_text: limpeza \n",
    "- lemmatizatized: limpeza + stemm + lemm\n",
    "- processed_text: limpeza + stemm + lemm + removing stopwords"
   ]
  },
  {
   "cell_type": "markdown",
   "metadata": {},
   "source": [
    "## Divisão em treino e teste"
   ]
  },
  {
   "cell_type": "code",
   "execution_count": 24,
   "metadata": {},
   "outputs": [],
   "source": [
    "from sklearn.model_selection import train_test_split\n",
    "from sklearn.metrics import confusion_matrix,classification_report,accuracy_score\n",
    "from sklearn.naive_bayes import MultinomialNB, BernoulliNB\n",
    "from sklearn.ensemble import RandomForestClassifier\n",
    "\n",
    "X_train,X_test,y_train,y_test = train_test_split(df[\"text\"],df[\"hatespeech_comb\"], test_size = 0.25,random_state= 42,stratify=df[\"hatespeech_comb\"])\n",
    "# X_train,X_test,y_train,y_test = train_test_split(df[\"clean_text\"],df[\"hatespeech_comb\"], test_size = 0.25,random_state= 42,stratify=df[\"hatespeech_comb\"])\n",
    "# X_train,X_test,y_train,y_test = train_test_split(df[\"lemmatized\"],df[\"hatespeech_comb\"], test_size = 0.25,random_state= 42,stratify=df[\"hatespeech_comb\"])\n",
    "# X_train,X_test,y_train,y_test = train_test_split(df[\"processed_text\"],df[\"hatespeech_comb\"], test_size = 0.25,random_state= 42,stratify=df[\"hatespeech_comb\"])"
   ]
  },
  {
   "cell_type": "markdown",
   "metadata": {},
   "source": [
    "## Extração de Características: BagOfWords"
   ]
  },
  {
   "cell_type": "code",
   "execution_count": 25,
   "metadata": {},
   "outputs": [],
   "source": [
    "from sklearn.feature_extraction.text import CountVectorizer\n",
    "\n",
    "vt = CountVectorizer(analyzer=\"word\")\n",
    "X_train_count = vt.fit_transform(X_train)\n",
    "X_test_count = vt.transform(X_test)"
   ]
  },
  {
   "cell_type": "markdown",
   "metadata": {},
   "source": [
    "## Classificação: Árvore de Decisão"
   ]
  },
  {
   "cell_type": "code",
   "execution_count": null,
   "metadata": {},
   "outputs": [],
   "source": [
    "from sklearn.model_selection import GridSearchCV\n",
    "parameters = {'max_features': ('auto','sqrt'),\n",
    "             'n_estimators': [50, 10, 150],\n",
    "             'max_depth': [5, 10, None],\n",
    "             'min_samples_split': [5, 10, 15],\n",
    "             'min_samples_leaf': [1, 2, 5, 10],\n",
    "             'bootstrap': [True, False]}\n",
    "rf = RandomForestClassifier()\n",
    "rf_model_cv = GridSearchCV(rf,parameters,cv = 5,n_jobs = -1)\n",
    "rf_model_cv.fit(X_train_count,y_train)\n",
    "rf_model_cv.best_params_"
   ]
  },
  {
   "cell_type": "code",
   "execution_count": 27,
   "metadata": {},
   "outputs": [
    {
     "data": {
      "text/plain": [
       "{'bootstrap': False,\n",
       " 'max_depth': None,\n",
       " 'max_features': 'sqrt',\n",
       " 'min_samples_leaf': 2,\n",
       " 'min_samples_split': 15,\n",
       " 'n_estimators': 150}"
      ]
     },
     "execution_count": 27,
     "metadata": {},
     "output_type": "execute_result"
    }
   ],
   "source": [
    "best_params_ = {'bootstrap': False,\n",
    " 'max_depth': None,\n",
    " 'max_features': 'sqrt',\n",
    " 'min_samples_leaf': 2,\n",
    " 'min_samples_split': 15,\n",
    " 'n_estimators': 150}\n",
    "\n",
    "best_params_"
   ]
  },
  {
   "cell_type": "markdown",
   "metadata": {},
   "source": [
    "## Pipeline RandomForestClassifier"
   ]
  },
  {
   "cell_type": "code",
   "execution_count": null,
   "metadata": {},
   "outputs": [],
   "source": [
    "from sklearn.model_selection import GridSearchCV"
   ]
  },
  {
   "cell_type": "code",
   "execution_count": 46,
   "metadata": {},
   "outputs": [
    {
     "name": "stdout",
     "output_type": "stream",
     "text": [
      "[10, 20]\n",
      "[20, 30]\n",
      "[30, 40]\n",
      "[40, 50]\n",
      "[50, 60]\n",
      "[60, 70]\n",
      "[70, 80]\n",
      "[80]\n"
     ]
    }
   ],
   "source": [
    "n_estimators = [10,20,30,40,50,60,70,80,90,100,110,120,130,140,150]\n",
    "max_depth = [5, 10, None]\n",
    "min_samples_split = [5, 10, 15, 20]\n",
    "min_samples_leaf = [1, 2, 5, 10, 20]\n",
    "\n",
    "for i in range(len(parametros)):\n",
    "    print(parametros[i:i+2])"
   ]
  },
  {
   "cell_type": "code",
   "execution_count": null,
   "metadata": {},
   "outputs": [],
   "source": [
    "X_train,X_test,y_train,y_test = train_test_split(df[\"text\"],df[\"hatespeech_comb\"], test_size = 0.25,random_state= 42,stratify=df[\"hatespeech_comb\"])\n",
    "\n",
    "for i in range(5):\n",
    "    parameters = {'max_features': ('auto','sqrt'),\n",
    "                'n_estimators': [50, 10, 150],\n",
    "                'max_depth': [5, 10, None],\n",
    "                'min_samples_split': [5, 10, 15],\n",
    "                'min_samples_leaf': [1, 2, 5, 10],\n",
    "                'bootstrap': [True, False]}\n",
    "    rf = RandomForestClassifier()\n",
    "    rf_model_cv = GridSearchCV(rf,parameters,cv = 5,n_jobs = -1)\n",
    "    rf_model_cv.fit(X_train_count,y_train)\n",
    "    rf_model_cv.best_params_"
   ]
  },
  {
   "cell_type": "code",
   "execution_count": 28,
   "metadata": {},
   "outputs": [],
   "source": [
    "import json"
   ]
  },
  {
   "cell_type": "code",
   "execution_count": 41,
   "metadata": {},
   "outputs": [],
   "source": [
    "best_params_list = [best_params_, best_params_]"
   ]
  },
  {
   "cell_type": "code",
   "execution_count": 43,
   "metadata": {},
   "outputs": [],
   "source": [
    "with open('best_params_rf.json', 'w', encoding='utf-8') as f:\n",
    "    # Converte cada item para uma string JSON com indentação de 2 espaços e escreve no arquivo\n",
    "    f.write(json.dumps(best_params_list, indent=2, ensure_ascii=False))\n",
    "    # Adiciona uma quebra de linha após cada item"
   ]
  }
 ],
 "metadata": {
  "kernelspec": {
   "display_name": "Python 3",
   "language": "python",
   "name": "python3"
  },
  "language_info": {
   "codemirror_mode": {
    "name": "ipython",
    "version": 3
   },
   "file_extension": ".py",
   "mimetype": "text/x-python",
   "name": "python",
   "nbconvert_exporter": "python",
   "pygments_lexer": "ipython3",
   "version": "3.12.0"
  }
 },
 "nbformat": 4,
 "nbformat_minor": 2
}
